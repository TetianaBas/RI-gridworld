{
 "cells": [
  {
   "cell_type": "code",
   "execution_count": 1,
   "id": "71a70688",
   "metadata": {},
   "outputs": [],
   "source": [
    "import numpy as np"
   ]
  },
  {
   "cell_type": "code",
   "execution_count": 3,
   "id": "c9854261",
   "metadata": {},
   "outputs": [
    {
     "name": "stdout",
     "output_type": "stream",
     "text": [
      "Conversion rate for slot machine 0: 4.93%\n",
      "Conversion rate for slot machine 1: 15.89%\n",
      "Conversion rate for slot machine 2: 8.16%\n",
      "Conversion rate for slot machine 3: 12.78%\n",
      "Conversion rate for slot machine 4: 10.71%\n",
      "Conversion rate for slot machine 5: 12.70%\n"
     ]
    }
   ],
   "source": [
    "trials = 1000\n",
    "machines = 6\n",
    "wins = np.zeros(machines)\n",
    "loses = np.zeros(machines)\n",
    "conversion_rates = np.random.uniform(0.01, 0.2, machines)\n",
    "\n",
    "for i in range(6):\n",
    "    print('Conversion rate for slot machine {0}: {1:.2%}'.format(i, conversion_rates[i]))"
   ]
  },
  {
   "cell_type": "code",
   "execution_count": 8,
   "id": "97117219",
   "metadata": {},
   "outputs": [
    {
     "name": "stdout",
     "output_type": "stream",
     "text": [
      "Mean for column 0: 6.30%\n",
      "Mean for column 1: 18.20%\n",
      "Mean for column 2: 6.40%\n",
      "Mean for column 3: 13.20%\n",
      "Mean for column 4: 9.00%\n",
      "Mean for column 5: 11.30%\n"
     ]
    }
   ],
   "source": [
    "outcomes = np.zeros((trials, machines))\n",
    "for i in range(trials):\n",
    "    for j in range(machines): \n",
    "        if np.random.rand() <= conversion_rates[j]:\n",
    "            outcomes[i][j] = 1\n",
    "\n",
    "            \n",
    "for i in range(machines):\n",
    "    print('Mean for column {0}: {1:.2%}'.format(i, np.mean(outcomes[:, i])))"
   ]
  },
  {
   "cell_type": "code",
   "execution_count": 14,
   "id": "0fdc670a",
   "metadata": {},
   "outputs": [
    {
     "name": "stdout",
     "output_type": "stream",
     "text": [
      "Machine 0 was played 62.0 times\n",
      "Machine 1 was played 6237.0 times\n",
      "Machine 2 was played 58.0 times\n",
      "Machine 3 was played 111.0 times\n",
      "Machine 4 was played 143.0 times\n",
      "Machine 5 was played 389.0 times\n"
     ]
    }
   ],
   "source": [
    "\n",
    "for i in range(trials):\n",
    "    choice_index = -1\n",
    "    max_beta = -1\n",
    "    for j in range(machines):\n",
    "        a = wins[j]+1\n",
    "        b = loses[j]+1\n",
    "        \n",
    "        current_beta = np.random.beta(a,b)\n",
    "        if current_beta > max_beta:\n",
    "            max_beta = current_beta\n",
    "            choice_index = j\n",
    "            \n",
    "    if outcomes[i][choice_index] == 1:\n",
    "        wins[choice_index] +=1\n",
    "    else:\n",
    "        loses[choice_index] +=1\n",
    "        \n",
    "        \n",
    "games = wins + loses\n",
    "\n",
    "for i in range(machines):\n",
    "    print('Machine {0} was played {1} times'.format(i, games[i]))\n",
    "\n",
    "    \n",
    "            \n",
    "\n"
   ]
  },
  {
   "cell_type": "code",
   "execution_count": 17,
   "id": "bcd1608b",
   "metadata": {},
   "outputs": [
    {
     "name": "stdout",
     "output_type": "stream",
     "text": [
      "Total wins with Thompson Sampling: 1215\n",
      "Total wins with Random Sampling: 131\n"
     ]
    }
   ],
   "source": [
    "total_TS = np.sum(wins)\n",
    "total_random = 0\n",
    "for i in range(trials):\n",
    "    indx = np.random.randint(0, machines) #randomly choose a machine to play\n",
    "    if outcomes[i][indx] == 1:\n",
    "        total_random += 1\n",
    "\n",
    "#display results\n",
    "print('Total wins with Thompson Sampling: {0:.0f}'.format(total_TS))\n",
    "print('Total wins with Random Sampling: {0:.0f}'.format(total_random))"
   ]
  },
  {
   "cell_type": "code",
   "execution_count": null,
   "id": "307bf1fb",
   "metadata": {},
   "outputs": [],
   "source": []
  },
  {
   "cell_type": "code",
   "execution_count": null,
   "id": "1ff34fcd",
   "metadata": {},
   "outputs": [],
   "source": []
  },
  {
   "cell_type": "code",
   "execution_count": null,
   "id": "ddc74b42",
   "metadata": {},
   "outputs": [],
   "source": []
  },
  {
   "cell_type": "code",
   "execution_count": null,
   "id": "144ce541",
   "metadata": {},
   "outputs": [],
   "source": []
  }
 ],
 "metadata": {
  "kernelspec": {
   "display_name": "Python 3 (ipykernel)",
   "language": "python",
   "name": "python3"
  },
  "language_info": {
   "codemirror_mode": {
    "name": "ipython",
    "version": 3
   },
   "file_extension": ".py",
   "mimetype": "text/x-python",
   "name": "python",
   "nbconvert_exporter": "python",
   "pygments_lexer": "ipython3",
   "version": "3.10.9"
  }
 },
 "nbformat": 4,
 "nbformat_minor": 5
}
